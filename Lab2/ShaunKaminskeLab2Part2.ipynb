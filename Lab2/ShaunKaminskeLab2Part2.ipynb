{
  "cells": [
    {
      "cell_type": "code",
      "execution_count": 17,
      "metadata": {
        "collapsed": true,
        "id": "At8P37OYVcxl"
      },
      "outputs": [],
      "source": [
        "%matplotlib inline\n",
        "import numpy as np\n",
        "import matplotlib.pyplot as plt\n",
        "%load_ext autoreload\n",
        "%autoreload 2"
      ]
    },
    {
      "cell_type": "markdown",
      "metadata": {
        "id": "lO38UjP1Vcxo"
      },
      "source": [
        "Data Generation\n",
        "==="
      ]
    },
    {
      "cell_type": "code",
      "execution_count": 18,
      "metadata": {
        "collapsed": true,
        "id": "YJTDalYRVcxq"
      },
      "outputs": [],
      "source": [
        "num_samples, num_features = 10, 5"
      ]
    },
    {
      "cell_type": "code",
      "execution_count": 19,
      "metadata": {
        "collapsed": true,
        "id": "tbBE6syXVcxq"
      },
      "outputs": [],
      "source": [
        "np.random.seed(10)\n",
        "data = np.random.rand(num_samples, num_features)"
      ]
    },
    {
      "cell_type": "markdown",
      "metadata": {
        "id": "7BkYxPf_Vcxr"
      },
      "source": [
        "Solution\n",
        "==="
      ]
    },
    {
      "cell_type": "code",
      "execution_count": 20,
      "metadata": {
        "scrolled": false,
        "colab": {
          "base_uri": "https://localhost:8080/"
        },
        "id": "4wsjNFMKVcxr",
        "outputId": "ce4c96a4-ea15-4a84-c0df-8c29d0ffb464"
      },
      "outputs": [
        {
          "output_type": "stream",
          "name": "stdout",
          "text": [
            "[[0.77132064 0.02075195 0.63364823 0.74880388 0.49850701]\n",
            " [0.22479665 0.19806286 0.76053071 0.16911084 0.08833981]\n",
            " [0.68535982 0.95339335 0.00394827 0.51219226 0.81262096]\n",
            " [0.61252607 0.72175532 0.29187607 0.91777412 0.71457578]\n",
            " [0.54254437 0.14217005 0.37334076 0.67413362 0.44183317]\n",
            " [0.43401399 0.61776698 0.51313824 0.65039718 0.60103895]\n",
            " [0.8052232  0.52164715 0.90864888 0.31923609 0.09045935]\n",
            " [0.30070006 0.11398436 0.82868133 0.04689632 0.62628715]\n",
            " [0.54758616 0.819287   0.19894754 0.8568503  0.35165264]\n",
            " [0.75464769 0.29596171 0.88393648 0.32551164 0.1650159 ]]\n"
          ]
        }
      ],
      "source": [
        "print(data)"
      ]
    },
    {
      "cell_type": "markdown",
      "source": [
        "## Practice Problem 2 - Matrix Standardization\n",
        "\n",
        "The different dimensions or features of a data sample often show different variances. For some subsequent operations, it is a beneficial preprocessing step to standardize the data, i.e. **subtract the mean and divide by the standard deviation for each dimension**. After this processing, each dimension has zero mean and unit variance. Note that this is not equivalent to data whitening, which additionally de-correlates the dimensions (by means of a coordinate rotation). \n",
        "\n",
        "**Instructions:** Write a function that accepts data matrix $x\\in \\mathbb{R}^{n\\times d}$ as input and outputs the same data after normalization. $n$ is the number of samples, and $d$ is the number of dimensions, i.e. rows contain samples and columns features. "
      ],
      "metadata": {
        "id": "doN9K25YX3yY"
      }
    },
    {
      "cell_type": "code",
      "execution_count": 21,
      "metadata": {
        "collapsed": true,
        "id": "nQZHJi9XVcxr"
      },
      "outputs": [],
      "source": [
        "import numpy as np\n",
        "def standardize(x):\n",
        "    # Enter your code here to standardize x\n",
        "    x  = (x - np.mean(x)) / np.std(x)\n",
        "    return x\n",
        "\n",
        "std_data = standardize(data)"
      ]
    },
    {
      "cell_type": "code",
      "execution_count": 22,
      "metadata": {
        "colab": {
          "base_uri": "https://localhost:8080/"
        },
        "id": "xhBh5UNLVcxs",
        "outputId": "3f2ee5c3-7ee9-4bc8-a9d6-6701eb7b9895"
      },
      "outputs": [
        {
          "output_type": "stream",
          "name": "stdout",
          "text": [
            "[[ 0.98315179 -1.7550482   0.48089984  0.90100688 -0.01211791]\n",
            " [-1.01065906 -1.10818836  0.94378832 -1.2138102  -1.50847638]\n",
            " [ 0.66955234  1.64738343 -1.81635085  0.03780817  1.13382225]\n",
            " [ 0.40384265  0.8023292  -0.76594212  1.51743855  0.77613706]\n",
            " [ 0.14853772 -1.3120947  -0.46874531  0.62859727 -0.21887354]\n",
            " [-0.24739922  0.42296237  0.04125926  0.5420028   0.36193574]\n",
            " [ 1.10683397  0.07230118  1.48414814 -0.66612819 -1.50074396]\n",
            " [-0.73375074 -1.41492079  1.19241315 -1.65966917  0.45404537]\n",
            " [ 0.166931    1.15814106 -1.10496092  1.29517828 -0.5478672 ]\n",
            " [ 0.92232608 -0.75103703  1.39399318 -0.64323394 -1.22874922]] \n",
            "\n",
            " [ 0.24093665 -0.22381718  0.13805027  0.07391904 -0.22908878] \n",
            "\n",
            " [0.68878128 1.13921042 1.08753597 1.02532553 0.89922459]\n"
          ]
        }
      ],
      "source": [
        "print(std_data, \"\\n\\n\", np.mean(std_data, axis=0), \"\\n\\n\", np.std(std_data, axis=0))"
      ]
    }
  ],
  "metadata": {
    "kernelspec": {
      "display_name": "Python 3 (ipykernel)",
      "language": "python",
      "name": "python3"
    },
    "language_info": {
      "codemirror_mode": {
        "name": "ipython",
        "version": 3
      },
      "file_extension": ".py",
      "mimetype": "text/x-python",
      "name": "python",
      "nbconvert_exporter": "python",
      "pygments_lexer": "ipython3",
      "version": "3.9.15"
    },
    "colab": {
      "provenance": []
    }
  },
  "nbformat": 4,
  "nbformat_minor": 0
}