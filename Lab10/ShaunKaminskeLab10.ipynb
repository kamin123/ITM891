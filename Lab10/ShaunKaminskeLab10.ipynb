{
  "nbformat": 4,
  "nbformat_minor": 0,
  "metadata": {
    "colab": {
      "provenance": []
    },
    "kernelspec": {
      "name": "python3",
      "display_name": "Python 3"
    },
    "language_info": {
      "name": "python"
    },
    "accelerator": "TPU",
    "gpuClass": "standard"
  },
  "cells": [
    {
      "cell_type": "markdown",
      "source": [
        "### Problem 1: Generating Some Data As A Toy Example\n",
        "\n"
      ],
      "metadata": {
        "id": "qtt-crrf_Kth"
      }
    },
    {
      "cell_type": "markdown",
      "source": [
        "Generate three clusters of data as A, B, and C. \n",
        "\n",
        "* A = 10 (x,y) samples from the gaussian distribution, with mean=(0,0), cov=I, i.\n",
        "e., N(mean,std)\n",
        "\n",
        "* B = 10 (x,y) samples from the gaussian distribution, with mean=(4,4), cov=I, i.e., N(mean,std)\n",
        "\n",
        "* C = 10 (x,y) samples from the gaussian distribution, with mean=(-4,4), cov=I, i.e., N(mean,std)\n",
        "\n",
        "*Hint: use the multivariate_normal function, and set the mean, covariance, and size for each cluster.*"
      ],
      "metadata": {
        "id": "8-JtNg1qVEKW"
      }
    },
    {
      "cell_type": "code",
      "source": [
        "import numpy as np\n",
        "# Add code here to generate the three clusters\n",
        "A = np.random.multivariate_normal(mean = [0,0], cov = np.eye(2), size = 10)\n",
        "B = np.random.multivariate_normal(mean = [4,4], cov = np.eye(2), size = 10)\n",
        "C = np.random.multivariate_normal(mean = [-4, 4], cov = np.eye(2), size = 10)\n",
        "\n",
        "data = [A, B, C]\n",
        "print(data)"
      ],
      "metadata": {
        "id": "OS8Q_A0PB10T",
        "colab": {
          "base_uri": "https://localhost:8080/"
        },
        "outputId": "c286527f-e2ff-4a39-bdf3-0101ba224814"
      },
      "execution_count": 93,
      "outputs": [
        {
          "output_type": "stream",
          "name": "stdout",
          "text": [
            "[array([[-0.50887904, -0.88129611],\n",
            "       [ 1.13904325,  0.6874677 ],\n",
            "       [ 0.03202481, -0.6323101 ],\n",
            "       [-0.54739417, -1.61290447],\n",
            "       [-1.46116217,  0.54069575],\n",
            "       [ 0.54114816,  0.02239964],\n",
            "       [-0.39339198, -0.30328351],\n",
            "       [ 1.52272624,  1.82094161],\n",
            "       [ 0.46685346, -0.4799988 ],\n",
            "       [ 0.2443838 , -1.11895365]]), array([[4.67936864, 4.50971894],\n",
            "       [4.6924012 , 3.24210102],\n",
            "       [3.4407727 , 3.15074913],\n",
            "       [3.95379114, 3.81440303],\n",
            "       [3.49334418, 3.04178039],\n",
            "       [2.49183476, 3.89577175],\n",
            "       [2.70122595, 2.700334  ],\n",
            "       [4.93054695, 3.82405058],\n",
            "       [1.80608744, 4.39480949],\n",
            "       [3.0369911 , 4.27348508]]), array([[-2.94158905,  3.97416186],\n",
            "       [-2.80493789,  4.69197054],\n",
            "       [-4.65516161,  5.70426465],\n",
            "       [-4.32846808,  4.26597987],\n",
            "       [-2.19240706,  3.98279836],\n",
            "       [-5.98296107,  2.07670436],\n",
            "       [-5.37538955,  4.78903668],\n",
            "       [-2.90091756,  3.35449216],\n",
            "       [-3.8502257 ,  2.88206129],\n",
            "       [-3.73521729,  3.79147557]])]\n"
          ]
        }
      ]
    },
    {
      "cell_type": "markdown",
      "source": [
        "Visualize the true distribution of the samples by plotting them in a scatter plot. Plot the x and y coordinates for each sample in A, B, and C. Try to use a for loop to do this. "
      ],
      "metadata": {
        "id": "dXL-G-GxXsIP"
      }
    },
    {
      "cell_type": "code",
      "source": [
        "import matplotlib.pyplot as plt\n",
        "color_list = ['r','g','b']\n",
        "\n",
        "# Add your code here\n",
        "for i in range(3):\n",
        "  plt.scatter(data[i][:,0], data[i][:, 1], c = color_list[i])\n",
        "\n"
      ],
      "metadata": {
        "id": "TGD8RXxdbegZ",
        "colab": {
          "base_uri": "https://localhost:8080/",
          "height": 267
        },
        "outputId": "bc6d1643-68c5-4ecd-a86c-7350899af2b8"
      },
      "execution_count": 94,
      "outputs": [
        {
          "output_type": "display_data",
          "data": {
            "text/plain": [
              "<Figure size 432x288 with 1 Axes>"
            ],
            "image/png": "[encoded data removed]"
          },
          "metadata": {
            "needs_background": "light"
          }
        }
      ]
    },
    {
      "cell_type": "markdown",
      "source": [
        "### Problem 2: How can we cluster these points if we do not know the labels?"
      ],
      "metadata": {
        "id": "qDHKZuT9G0pD"
      }
    },
    {
      "cell_type": "markdown",
      "source": [
        "First, mix and shuffle the data, which includes A, B, and C. There's a function in the numpy library that will do this. \n",
        "\n",
        "Then, visualize the data through a scatter plot. "
      ],
      "metadata": {
        "id": "o4hDPTxean17"
      }
    },
    {
      "cell_type": "code",
      "source": [
        "# Add your code here to mix and shuffle the data. Make sure data contains A, B, and C.\n",
        "data = np.concatenate([A, B, C])\n",
        "print(data)\n",
        "\n",
        "np.random.shuffle(data)\n",
        "print(f'\\n\\n{data}')\n",
        "\n",
        "\n",
        "# Add your code to visualize the samples through a scatter plot\n",
        "plt.scatter(data[:, 0], data[:, 1])\n"
      ],
      "metadata": {
        "colab": {
          "base_uri": "https://localhost:8080/",
          "height": 1000
        },
        "id": "AvKhOTAXG4BT",
        "outputId": "2ea8041b-d545-4910-b940-c70f34268c8e"
      },
      "execution_count": 95,
      "outputs": [
        {
          "output_type": "stream",
          "name": "stdout",
          "text": [
            "[[-0.50887904 -0.88129611]\n",
            " [ 1.13904325  0.6874677 ]\n",
            " [ 0.03202481 -0.6323101 ]\n",
            " [-0.54739417 -1.61290447]\n",
            " [-1.46116217  0.54069575]\n",
            " [ 0.54114816  0.02239964]\n",
            " [-0.39339198 -0.30328351]\n",
            " [ 1.52272624  1.82094161]\n",
            " [ 0.46685346 -0.4799988 ]\n",
            " [ 0.2443838  -1.11895365]\n",
            " [ 4.67936864  4.50971894]\n",
            " [ 4.6924012   3.24210102]\n",
            " [ 3.4407727   3.15074913]\n",
            " [ 3.95379114  3.81440303]\n",
            " [ 3.49334418  3.04178039]\n",
            " [ 2.49183476  3.89577175]\n",
            " [ 2.70122595  2.700334  ]\n",
            " [ 4.93054695  3.82405058]\n",
            " [ 1.80608744  4.39480949]\n",
            " [ 3.0369911   4.27348508]\n",
            " [-2.94158905  3.97416186]\n",
            " [-2.80493789  4.69197054]\n",
            " [-4.65516161  5.70426465]\n",
            " [-4.32846808  4.26597987]\n",
            " [-2.19240706  3.98279836]\n",
            " [-5.98296107  2.07670436]\n",
            " [-5.37538955  4.78903668]\n",
            " [-2.90091756  3.35449216]\n",
            " [-3.8502257   2.88206129]\n",
            " [-3.73521729  3.79147557]]\n",
            "\n",
            "\n",
            "[[ 1.80608744  4.39480949]\n",
            " [ 4.93054695  3.82405058]\n",
            " [ 0.46685346 -0.4799988 ]\n",
            " [-0.54739417 -1.61290447]\n",
            " [-2.19240706  3.98279836]\n",
            " [ 4.6924012   3.24210102]\n",
            " [ 1.13904325  0.6874677 ]\n",
            " [-3.8502257   2.88206129]\n",
            " [-2.90091756  3.35449216]\n",
            " [ 0.54114816  0.02239964]\n",
            " [ 3.49334418  3.04178039]\n",
            " [ 3.0369911   4.27348508]\n",
            " [-2.80493789  4.69197054]\n",
            " [-3.73521729  3.79147557]\n",
            " [ 0.03202481 -0.6323101 ]\n",
            " [ 2.49183476  3.89577175]\n",
            " [-1.46116217  0.54069575]\n",
            " [ 2.70122595  2.700334  ]\n",
            " [-4.65516161  5.70426465]\n",
            " [-2.94158905  3.97416186]\n",
            " [-0.50887904 -0.88129611]\n",
            " [-5.37538955  4.78903668]\n",
            " [-0.39339198 -0.30328351]\n",
            " [-4.32846808  4.26597987]\n",
            " [ 3.95379114  3.81440303]\n",
            " [ 0.2443838  -1.11895365]\n",
            " [-5.98296107  2.07670436]\n",
            " [ 1.52272624  1.82094161]\n",
            " [ 4.67936864  4.50971894]\n",
            " [ 3.4407727   3.15074913]]\n"
          ]
        },
        {
          "output_type": "execute_result",
          "data": {
            "text/plain": [
              "<matplotlib.collections.PathCollection at 0x7f1ae387bdf0>"
            ]
          },
          "metadata": {},
          "execution_count": 95
        },
        {
          "output_type": "display_data",
          "data": {
            "text/plain": [
              "<Figure size 432x288 with 1 Axes>"
            ],
            "image/png": "[encoded data removed]"
          },
          "metadata": {
            "needs_background": "light"
          }
        }
      ]
    },
    {
      "cell_type": "markdown",
      "source": [
        "Now, implement the K-Means algorithm yourself. \n"
      ],
      "metadata": {
        "id": "qZyhgzicgbAf"
      }
    },
    {
      "cell_type": "code",
      "source": [
        "# How many clusters should you have? Set the value of K based on the number of clusters you created in Problem 1.\n",
        "# from sklearn.cluster import KMeans\n",
        "# K = KMeans(n_clusters = 3, random_state = 0, n_iter = 'auto').fit()\n",
        "K = 3\n",
        "# Select three random points as initial centers (pick any three coordinates)\n",
        "centers = np.array([[0, 0], [1, 1], [2 , 2]])\n",
        "\n",
        "# Now visualize the center and the samples. You can add a 'marker' parameter in the numpy scatterplot function to visualize where the center is. \n",
        "\n",
        "plt.figure()\n",
        "plt.scatter(data[:, 0], data[:, 1])\n",
        "plt.scatter(centers[0][0],centers[0][1],c='r', marker='+')\n",
        "plt.scatter(centers[1][0],centers[1][1],c='r', marker='+')\n",
        "plt.scatter(centers[2][0],centers[2][1],c='r', marker='+')"
      ],
      "metadata": {
        "colab": {
          "base_uri": "https://localhost:8080/",
          "height": 284
        },
        "id": "x-dob_kcHC8L",
        "outputId": "723dfb3f-1a7a-44cf-f4ca-5ce0f21930c6"
      },
      "execution_count": 96,
      "outputs": [
        {
          "output_type": "execute_result",
          "data": {
            "text/plain": [
              "<matplotlib.collections.PathCollection at 0x7f1ae3843580>"
            ]
          },
          "metadata": {},
          "execution_count": 96
        },
        {
          "output_type": "display_data",
          "data": {
            "text/plain": [
              "<Figure size 432x288 with 1 Axes>"
            ],
            "image/png": "[encoded data removed]"
          },
          "metadata": {
            "needs_background": "light"
          }
        }
      ]
    },
    {
      "cell_type": "code",
      "source": [
        "# Create a new empty array of zeros to store the distances in \n",
        "dist = np.zeros([len(data),3])\n",
        "\n",
        "\n",
        "# Iterate through the clusters and fill the distance array \n",
        "for d_id, d in enumerate(data):\n",
        "  for c_id, c in enumerate(centers):\n",
        "    \n",
        "    dist[d_id, c_id] = np.sqrt(np.sum((d - c)**2))\n",
        "\n",
        "print(dist)\n",
        "# Calculate the distance between the sample to each class center. You can do this using the norm function.\n",
        "\n",
        "\n"
      ],
      "metadata": {
        "id": "oGMkzaMzHEKO",
        "colab": {
          "base_uri": "https://localhost:8080/"
        },
        "outputId": "7f2c63c9-d3df-4f4b-837d-77581be6a322"
      },
      "execution_count": 97,
      "outputs": [
        {
          "output_type": "stream",
          "name": "stdout",
          "text": [
            "[[4.75145266 3.48919883 2.40264741]\n",
            " [6.23968397 4.83988233 3.45184964]\n",
            " [0.66959017 1.57309939 2.91563585]\n",
            " [1.70326193 3.03672496 4.4206669 ]\n",
            " [4.54635365 4.36904439 4.63764663]\n",
            " [5.70349437 4.31981986 2.96510357]\n",
            " [1.33042525 0.34206646 1.56970939]\n",
            " [4.80941942 5.20258051 5.91634793]\n",
            " [4.43485517 4.55640112 5.08464768]\n",
            " [0.54161155 1.07992939 2.45746859]\n",
            " [4.63204938 3.22267472 1.82081938]\n",
            " [5.24270823 3.85552036 2.4988167 ]\n",
            " [5.46646724 5.30171659 5.50764319]\n",
            " [5.32232423 5.49678257 6.00850248]\n",
            " [0.63312056 1.89773872 3.28663701]\n",
            " [4.62453003 3.25746297 1.95853312]\n",
            " [1.55799448 2.50365326 3.75622317]\n",
            " [3.81947972 2.40526619 0.99105274]\n",
            " [7.36268733 7.35601514 7.61661031]\n",
            " [4.94438153 4.93778929 5.32133606]\n",
            " [1.01766435 2.41163659 3.82051585]\n",
            " [7.19928365 7.41635968 7.88511868]\n",
            " [0.49672743 1.90790176 3.32166225]\n",
            " [6.07735306 6.24973572 6.72191736]\n",
            " [5.49382697 4.07991991 2.66633797]\n",
            " [1.14532996 2.24964895 3.57911443]\n",
            " [6.3331291  7.06548212 7.98332957]\n",
            " [2.37371514 0.97323576 0.50975695]\n",
            " [6.49877341 5.08486781 3.67119946]\n",
            " [4.66541925 3.25316664 1.84392232]]\n"
          ]
        }
      ]
    },
    {
      "cell_type": "code",
      "source": [
        "# Assign the class of each sample to the closest center. You can use the numpy function argmin, which returns the indices of the minimum values along an axis.\n",
        "labels = np.argmin(dist, axis=1)\n",
        "\n",
        "# Visualize the initial cluster results for the three clusters: \n",
        "for i in range(K):\n",
        "  plt.scatter(data[labels == i][:,0], data[labels == i][:, 1], c = color_list[i])\n"
      ],
      "metadata": {
        "colab": {
          "base_uri": "https://localhost:8080/",
          "height": 267
        },
        "id": "JA6ayEAeKAhQ",
        "outputId": "7f1f842b-5041-442f-8f5e-fbfca70c24f0"
      },
      "execution_count": 98,
      "outputs": [
        {
          "output_type": "display_data",
          "data": {
            "text/plain": [
              "<Figure size 432x288 with 1 Axes>"
            ],
            "image/png": "[encoded data removed]"
          },
          "metadata": {
            "needs_background": "light"
          }
        }
      ]
    },
    {
      "cell_type": "code",
      "source": [
        "# Find new centers and assign new labels to the samples, then visualize again\n",
        "centers = [] \n",
        "for i in range(K):\n",
        "  center = np.mean(data[labels == i], axis=0)\n",
        "  centers.append(center)\n",
        "print(centers)\n",
        "\n",
        "# Calculate the new distance the way you did before\n",
        "dist = np.zeros([len(data), 3])\n",
        "for d_id, d in enumerate(data):\n",
        "  for c_id, c in enumerate(centers):\n",
        "    dist[d_id,c_id] = np.sqrt(np.sum((d - c)**2))\n",
        "\n",
        "\n",
        "# Assign new labels like you did before using argmin\n",
        "labels = np.argmin(dist, axis=1)\n",
        "\n",
        "# Visualize the data again \n",
        "plt.figure()\n",
        "for i in range(K):\n",
        "  plt.scatter(data[labels == i][:,0], data[labels == i][:, 1], c = color_list[i])\n",
        "\n",
        "# Plot the centers as a scatter plot\n",
        "\n",
        "plt.scatter(centers[0][0],centers[0][1],c='black', marker='+')\n",
        "plt.scatter(centers[1][0],centers[1][1],c='black', marker='+')\n",
        "plt.scatter(centers[2][0],centers[2][1],c='black', marker='+')"
      ],
      "metadata": {
        "colab": {
          "base_uri": "https://localhost:8080/",
          "height": 302
        },
        "id": "D04-xAn4KiXD",
        "outputId": "77ca52d8-5b46-478c-848b-d3fe4fffa50a"
      },
      "execution_count": 101,
      "outputs": [
        {
          "output_type": "stream",
          "name": "stdout",
          "text": [
            "[array([-0.05415266, -0.41979817]), array([-3.87672749,  3.95129453]), array([3.34082639, 3.51528591])]\n"
          ]
        },
        {
          "output_type": "execute_result",
          "data": {
            "text/plain": [
              "<matplotlib.collections.PathCollection at 0x7f1ae8576490>"
            ]
          },
          "metadata": {},
          "execution_count": 101
        },
        {
          "output_type": "display_data",
          "data": {
            "text/plain": [
              "<Figure size 432x288 with 1 Axes>"
            ],
            "image/png": "[encoded data removed]"
          },
          "metadata": {
            "needs_background": "light"
          }
        }
      ]
    },
    {
      "cell_type": "code",
      "source": [
        "# Iterate finding new centers and assigning new labels 5 times. Hint: you have all the code for one time above. \n",
        "for iter in range(5):\n",
        "  # Find new centers\n",
        "  centers = [] \n",
        "\n",
        "  for i in range(K):\n",
        "    center = np.mean(data[labels == i], axis=0)\n",
        "    centers.append(center)\n",
        "\n",
        "  # Calculate the new distance\n",
        "  dist = np.zeros([len(data), 3])\n",
        "\n",
        "  for d_id, d in enumerate(data):\n",
        "    for c_id, c in enumerate(centers):\n",
        "      dist[d_id,c_id] = np.sqrt(np.sum((d - c)**2))\n",
        "\n",
        "  # Assign new labels\n",
        "  labels = np.argmin(dist, axis=1)\n",
        "\n",
        "  # Visualize in 5 figures respectively to see the convergence\n",
        "  plt.figure()\n",
        "  for i in range(K):\n",
        "    plt.scatter(data[labels == i][:,0], data[labels == i][:, 1], c = color_list[i])\n",
        "\n",
        "  plt.scatter(centers[0][0],centers[0][1],c='black', marker='+')\n",
        "  plt.scatter(centers[1][0],centers[1][1],c='black', marker='+')\n",
        "  plt.scatter(centers[2][0],centers[2][1],c='black', marker='+')  \n"
      ],
      "metadata": {
        "colab": {
          "base_uri": "https://localhost:8080/",
          "height": 1000
        },
        "id": "qjgL94dDMFOK",
        "outputId": "a487877b-fd38-467e-d9dc-3deb03ff6b13"
      },
      "execution_count": 102,
      "outputs": [
        {
          "output_type": "display_data",
          "data": {
            "text/plain": [
              "<Figure size 432x288 with 1 Axes>"
            ],
            "image/png": "[encoded data removed]"
          },
          "metadata": {
            "needs_background": "light"
          }
        },
        {
          "output_type": "display_data",
          "data": {
            "text/plain": [
              "<Figure size 432x288 with 1 Axes>"
            ],
            "image/png": "[encoded data removed]"
          },
          "metadata": {
            "needs_background": "light"
          }
        },
        {
          "output_type": "display_data",
          "data": {
            "text/plain": [
              "<Figure size 432x288 with 1 Axes>"
            ],
            "image/png": "[encoded data removed]"
          },
          "metadata": {
            "needs_background": "light"
          }
        },
        {
          "output_type": "display_data",
          "data": {
            "text/plain": [
              "<Figure size 432x288 with 1 Axes>"
            ],
            "image/png": "[encoded data removed]"
          },
          "metadata": {
            "needs_background": "light"
          }
        },
        {
          "output_type": "display_data",
          "data": {
            "text/plain": [
              "<Figure size 432x288 with 1 Axes>"
            ],
            "image/png": "[encoded data removed]"
          },
          "metadata": {
            "needs_background": "light"
          }
        }
      ]
    }
  ]
}