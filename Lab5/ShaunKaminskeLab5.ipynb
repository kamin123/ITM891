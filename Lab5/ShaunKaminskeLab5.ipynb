{
  "nbformat": 4,
  "nbformat_minor": 0,
  "metadata": {
    "colab": {
      "provenance": []
    },
    "kernelspec": {
      "name": "python3",
      "display_name": "Python 3"
    },
    "language_info": {
      "name": "python"
    }
  },
  "cells": [
    {
      "cell_type": "markdown",
      "source": [
        "##Eigenvalues and Eigenvectors\n",
        "\n",
        "Eigenvectors are unit vectors with length or magnitude equal to 1. Eigenvalues are coefficients applied to eigenvectors that give the vectors their length or magnitude.\n",
        "\n",
        "PCA uses eigendecomposition. A matrix is decomposed into:\n",
        "\n",
        "* A diagonal matrix formed from eigenvalues of the matrix\n",
        "\n",
        "* A matrix formed by the eigenvectors of the matrix\n",
        "\n",
        "Additionally, PCA is a method that: \n",
        "* Measures how each variable is associated with one another using a covariance matrix\n",
        "* Understands the directions of the spread of our data using eigenvectors\n",
        "* Brings out the relative importance of these directions using eigenvalues\n",
        "\n",
        "\n",
        "From CSE 801 Lecture 4 Slides: \n",
        "\n",
        "By finding the eigenvalues and eigenvectors of the covariance\n",
        "matrix of data, we find that the eigenvectors with the largest\n",
        "eigenvalues correspond to the dimensions that have the strongest\n",
        "correlation in the dataset.\n",
        "\n",
        "\n",
        "---"
      ],
      "metadata": {
        "id": "t_erxIf42K1T"
      }
    },
    {
      "cell_type": "markdown",
      "source": [
        "*Note: for the coding problems, you can use a preexisting function in either numpy or the numpy.linalg library to answer most/all of the parts.*\n",
        "\n",
        "*For reference:* https://numpy.org/doc/stable/reference/routines.linalg.html"
      ],
      "metadata": {
        "id": "JDKsKcyckDzw"
      }
    },
    {
      "cell_type": "markdown",
      "source": [
        "###Problem 1\n",
        "Given matrix A, and **using np and the np.linalg library**:\n",
        "\\begin{equation*}\n",
        "A = \n",
        "\\begin{bmatrix}\n",
        "1 & 3 \\\\\n",
        "6 & 2 \\\\\n",
        "\\end{bmatrix}\n",
        "\\end{equation*}\n",
        "a) Calculate the eigenvalues and eigenvectors for matrix A. Make sure you indicate which are the eigenvalues and which are the eigenvectors through a comment or print statement. \n",
        "\n",
        "b) Calculate the product of the eigenvalues of A which you found in part a. \n",
        "\n",
        "c) Geometrically, the determinant is seen as the volume scaling factor of the linear transformation defined by the matrix. They can be considered as functions of stretching out and the shrinking in of the matrices. Determinants take a square matrix as the input and return a single number as output.  Calculate the determinant of A, and write a few words comparing your answer to your answer in part b. \n",
        "\n",
        "d) Given any n × n real or complex matrix A, there is\n",
        "\n",
        "![image.png](data:image/png;base64,iVBORw0KGgoAAAANSUhEUgAAAHUAAAA3CAYAAAAylAXbAAAFF0lEQVR4nO2c25naRhSAf8V+N6SBoDSwSwWGrUC4AC+kAjYNeKkguw3ErAuI2QZsXIHZCowrAL/ljTwcTWYkS2gkjZCw5/8+fVx0G+bMnNscAR6Px+PxnCUj4Dp+fwm8AQbtNQd+afPmPwA9RKgzYI0I8wl432ajPPUYIYLcAJHx3aa1Fnmc0AcOxuf7ePOcMRNE9Sq2wBiYttMcb1Nd8JKkUH8Ddoi99ZwpEUkBRsC8pbZ4PJ6zIWi7AWdAgHi3Zl+lP+d9l8eh+BBPU6zj7eB48yFPizyiBfEZiUmD1EbGd0F87AgJeRZIQkJdaxfv97RAH4k7Xc2wED3zZzWvdVJcJrNbTYzHDEmqzomDa95wRqnEJXaZlEvsgvMV0qltsyCpOkMH13xEMk9FtOrM3mKnnkKkc9ZFB6LVXxfsj+kwfXRwvR7HB0cvvueOGtphhsygKoTAHrvOv0d3js2In+GmE+vSR36javviRPfdAl+qnrzATh1kscRulgYkO8bmHNWZLlReXSYk7WvV/iqDmgSVzNAT1Rqplp5sbjojKdQddjbjARk4XcDUNF9o3jQoc1Xq9/cQe3hAvLIxWkADJNZ6iajmkO8T2Gr02rBGBGTGfzau/Z+IGupKBsyMOVcnup/tBADgDt3IDfAJrRanxr5HZLSkdfwCO6dHjbghSTVmc+4V9jY4KxGQt1VlSFLj3NS4lg03VAinxhy3EQe0I3RLUhWskIFQxD06NgtIBvVFwvq9oH2KedyW9LbO2eoskamOVmakydCrkgq2EWrejFpTLFTlIJmq1oz9ihwmlVQ/hWNShhXJNGJTLNGaIcuG7xEzCejKBxub+JTzfYCM1GNMgRfABTLTb5EKAcVri/t3kSnwNX4f0kwGbIn0sVLxUcYxI4xJ9zx+DVKvY8Rubo0T9zk3tYlPr5HZ/M24x1dkoFwgjteE/NJK29KQSXw9Wz5RLwbeIwP0LdJn2+OHl2aJdlb7wN/IBHhrHHNJKuX4nCQXwAfE292nGpk3mzfx8XmE8f4rvu/ADfBP/P6afKEqe5U3sBRbZODYUjmojwmBv4A/cK9+HxB5KLW6A94hQg2Rts8RoQ/ImME9RGh38efVkX1pJmSr3xAZvct4/5ikegrjBu/Qdiki226+otwi9CnoI4JswvN9QAZwWp2rqOEGkcsdYgJyw6opMtI/ox0aVXlubmkvTyUf0h5s1rmzgv3K6UoL7x670OeUqJjbNSNEoHkp2w1JDbPCYhGlymxIC8w1m4avX5YH2h1kSkYDZAD0aMBJG9Pcj7zCvQNShwXi4HVh5WiOmLcRRkjjkkfcLCCbBMhgyXLj20Dlrl0IdIz4CnUYIEJtrM64j9hDl5XpC7qTyB8jAnWROeohdrELK0+F9HA7q7pS6T5Ee/B1CRFntGuO309FH5lVdR21IRKCqBCuMcevS3FfF+kjCRO1SpXVX3lJGbUi9YJsJ+ZXitOrngYwE/Yutybi2//xM/U4pg1NP3ZRh3Re3ePx/HQ8a7sBZ0YE/EvxalEWylmqcq6nQdTf6pRhhK7taiSV52mPNScSqv8jDztUGW1XctBHSVc+eLKZIzPtFolde+gYNs0TUn3xkZZSgV6oxagHlSJ0bJmo3iuBzwt0jC3JaoSyheJrTlTi6meqHRG6EC9CBFRUm9Sa+vXqwI4pUhH5DbGrZWJN9SzSFBHyloYfg/RCtWeECKRszlaVcIJ+0sCvpXo8Hs+Px39ElXoDbJ2VCQAAAABJRU5ErkJggg==)\n",
        "\n",
        "where λ1, ..., λn are the eigenvalues of A counted with multiplicity. This equation shows that the trace of a matrix is the sum of its eigenvalues. This holds true even if A is a real matrix and some (or all) of the eigenvalues are complex numbers. Calculate the trace of A. \n",
        "\n",
        "e) If possible, compute A*A using matrix multiplication (hint: dot product). If not, explain why it is not possible. "
      ],
      "metadata": {
        "id": "2_aeeG4CO7W0"
      }
    },
    {
      "cell_type": "code",
      "execution_count": 7,
      "metadata": {
        "id": "YYZrBzXaOxvr",
        "colab": {
          "base_uri": "https://localhost:8080/"
        },
        "outputId": "0a39aae6-97fb-4f66-c2b8-5bff3a7418af"
      },
      "outputs": [
        {
          "output_type": "stream",
          "name": "stdout",
          "text": [
            "The eigenvalues are [-2.77200187  5.77200187]\n",
            "\n",
            "\n",
            "The eigenvectors are [[-0.62246561 -0.53222953]\n",
            " [ 0.78264715 -0.8466001 ]]\n"
          ]
        }
      ],
      "source": [
        "import numpy as np \n",
        "from numpy.linalg import eig\n",
        "\n",
        "matrix_A = np.array([[1,3], [6,2]])\n",
        "# Problem 1 (a)\n",
        "val, vec = eig(matrix_A)\n",
        "print(f'The eigenvalues are {val}')\n",
        "print(f'\\n\\nThe eigenvectors are {vec}')"
      ]
    },
    {
      "cell_type": "code",
      "source": [
        "#Probelm 1 (b)\n",
        "products1 = val[0] * val[1]\n",
        "products1"
      ],
      "metadata": {
        "colab": {
          "base_uri": "https://localhost:8080/"
        },
        "id": "sHpxohw8mEWD",
        "outputId": "fc3d6523-5f16-446d-e6e4-7ed046745b66"
      },
      "execution_count": 11,
      "outputs": [
        {
          "output_type": "execute_result",
          "data": {
            "text/plain": [
              "-15.999999999999998"
            ]
          },
          "metadata": {},
          "execution_count": 11
        }
      ]
    },
    {
      "cell_type": "code",
      "source": [
        "#Problem 1 (c)\n",
        "from numpy.linalg import det\n",
        "determinant = det(matrix_A)\n",
        "determinant\n",
        "\n"
      ],
      "metadata": {
        "colab": {
          "base_uri": "https://localhost:8080/"
        },
        "id": "Qq192N5dm4dZ",
        "outputId": "a738ff72-7fde-4e84-dc73-286451847899"
      },
      "execution_count": 12,
      "outputs": [
        {
          "output_type": "execute_result",
          "data": {
            "text/plain": [
              "-15.999999999999998"
            ]
          },
          "metadata": {},
          "execution_count": 12
        }
      ]
    },
    {
      "cell_type": "markdown",
      "source": [
        "The product of the the 2 eigenvalues is equal to the determinant of matrix_A."
      ],
      "metadata": {
        "id": "JVbP3wiioBHs"
      }
    },
    {
      "cell_type": "code",
      "source": [
        "#Problem 1 (d)\n",
        "from numpy import trace\n",
        "\n",
        "trace = trace(matrix_A)\n",
        "trace"
      ],
      "metadata": {
        "colab": {
          "base_uri": "https://localhost:8080/"
        },
        "id": "Brptp2bIo4TD",
        "outputId": "e6173c25-c064-4386-d215-7c8ddece4a87"
      },
      "execution_count": 15,
      "outputs": [
        {
          "output_type": "execute_result",
          "data": {
            "text/plain": [
              "3"
            ]
          },
          "metadata": {},
          "execution_count": 15
        }
      ]
    },
    {
      "cell_type": "code",
      "source": [
        "#Problem 1 (e)\n",
        "mat_multiply = np.dot(matrix_A, matrix_A)\n",
        "mat_multiply"
      ],
      "metadata": {
        "colab": {
          "base_uri": "https://localhost:8080/"
        },
        "id": "a5EYbSe-pwIr",
        "outputId": "380965c5-301c-482b-c194-a895c76ce1fa"
      },
      "execution_count": 17,
      "outputs": [
        {
          "output_type": "execute_result",
          "data": {
            "text/plain": [
              "array([[19,  9],\n",
              "       [18, 22]])"
            ]
          },
          "metadata": {},
          "execution_count": 17
        }
      ]
    },
    {
      "cell_type": "markdown",
      "source": [
        "I was able to do matrix multiplication. "
      ],
      "metadata": {
        "id": "_lLg_CBKqLj6"
      }
    },
    {
      "cell_type": "markdown",
      "source": [
        "###Problem 2\n",
        "Given matrix B: \\begin{equation*}\n",
        "B = \n",
        "\\begin{bmatrix}\n",
        "4 & 2 & 1 \\\\\n",
        "6 & 0 & 7 \\\\\n",
        "3 & 1 & 3\n",
        "\\end{bmatrix}\n",
        "\\end{equation*}\n",
        "\n",
        "a) Calculate the eigenvalues and eigenvectors for matrix B. Make sure you indicate which are the eigenvalues and which are the eigenvectors through a comment or print statement. \n",
        "\n",
        "b) Calculate the determinant of B. \n",
        "\n",
        "c) If possible, perform matrix multiplication on A and B. If not, explain why it is not possible. \n"
      ],
      "metadata": {
        "id": "ICkl4xTVQJzO"
      }
    },
    {
      "cell_type": "code",
      "source": [
        "import numpy as np \n",
        "from numpy.linalg import eig\n",
        "\n",
        "#Probelm 2 (a)\n",
        "matrix_B = np.array([[4, 2, 1], [6, 0, 7], [3, 1, 3]])\n",
        "\n",
        "val, vec = eig(matrix_B)\n",
        "print(f'The eigenvalues are {val}')\n",
        "print(f'\\n\\nThe eigenvectors are {vec}')"
      ],
      "metadata": {
        "id": "cRZHvhuHQTuN",
        "colab": {
          "base_uri": "https://localhost:8080/"
        },
        "outputId": "d21e96c2-0126-4629-a793-e39ecb25aeab"
      },
      "execution_count": 18,
      "outputs": [
        {
          "output_type": "stream",
          "name": "stdout",
          "text": [
            "The eigenvalues are [ 8.  1. -2.]\n",
            "\n",
            "\n",
            "The eigenvectors are [[-4.87088187e-01 -5.77350269e-01  3.16227766e-01]\n",
            " [-7.52772653e-01  5.77350269e-01 -9.48683298e-01]\n",
            " [-4.42807443e-01  5.77350269e-01 -4.82250065e-17]]\n"
          ]
        }
      ]
    },
    {
      "cell_type": "code",
      "source": [
        "#Problem 2 (b)\n",
        "from numpy.linalg import det\n",
        "determinantB = det(matrix_B)\n",
        "determinantB\n"
      ],
      "metadata": {
        "colab": {
          "base_uri": "https://localhost:8080/"
        },
        "id": "1sJNerSfqR_h",
        "outputId": "77ddad42-0e7b-44e0-aab0-bde3a3c6e796"
      },
      "execution_count": 19,
      "outputs": [
        {
          "output_type": "execute_result",
          "data": {
            "text/plain": [
              "-15.999999999999998"
            ]
          },
          "metadata": {},
          "execution_count": 19
        }
      ]
    },
    {
      "cell_type": "code",
      "source": [
        "matrix_multiplyA_B = np.dot(matrix_A, matrix_B)"
      ],
      "metadata": {
        "colab": {
          "base_uri": "https://localhost:8080/",
          "height": 201
        },
        "id": "IQPySkJOqllO",
        "outputId": "59fc84c5-e3b1-49ba-b7d4-f2f0332b3adf"
      },
      "execution_count": 20,
      "outputs": [
        {
          "output_type": "error",
          "ename": "ValueError",
          "evalue": "ignored",
          "traceback": [
            "\u001b[0;31m---------------------------------------------------------------------------\u001b[0m",
            "\u001b[0;31mValueError\u001b[0m                                Traceback (most recent call last)",
            "\u001b[0;32m<ipython-input-20-49990b430c12>\u001b[0m in \u001b[0;36m<module>\u001b[0;34m\u001b[0m\n\u001b[0;32m----> 1\u001b[0;31m \u001b[0mmatrix_multiplyA_B\u001b[0m \u001b[0;34m=\u001b[0m \u001b[0mnp\u001b[0m\u001b[0;34m.\u001b[0m\u001b[0mdot\u001b[0m\u001b[0;34m(\u001b[0m\u001b[0mmatrix_A\u001b[0m\u001b[0;34m,\u001b[0m \u001b[0mmatrix_B\u001b[0m\u001b[0;34m)\u001b[0m\u001b[0;34m\u001b[0m\u001b[0;34m\u001b[0m\u001b[0m\n\u001b[0m",
            "\u001b[0;32m<__array_function__ internals>\u001b[0m in \u001b[0;36mdot\u001b[0;34m(*args, **kwargs)\u001b[0m\n",
            "\u001b[0;31mValueError\u001b[0m: shapes (2,2) and (3,3) not aligned: 2 (dim 1) != 3 (dim 0)"
          ]
        }
      ]
    },
    {
      "cell_type": "markdown",
      "source": [
        "It is not possible to perform matrix multiplication on matrix_A and matrix_B because the shapes of A and B are different, (2,2) and (3,3). "
      ],
      "metadata": {
        "id": "W-VTGHZMqw1D"
      }
    },
    {
      "cell_type": "markdown",
      "source": [
        "###Problem 3 \n",
        "a) Explain what a diagonal matrix, identity matrix, and square matrix is. \n",
        "\n",
        "\n",
        "b) True or false: Non-square matrices can have eigenvalues and eigenvectors. Explain your answer.\n",
        "\n",
        "\n",
        "c) True or false: If A is a square matrix and a non-zero vector v is an eigenvector of A, if there is a scalar (eigenvalue) λ such that Av = λv, A multiplying with the eigenvector changes its direction. Explain your answer.\n"
      ],
      "metadata": {
        "id": "2bxBUmtn7G_X"
      }
    },
    {
      "cell_type": "markdown",
      "source": [
        "## Answers\n",
        "\n",
        "(a) Diagnol matrix - everything not along the diagnol of the matrix is a 0 \n",
        "identity matrix - evrything along the diagnol are 1's and everything else is a 0 \n",
        "square matrix - a matrix with the same number of rows and columns\n",
        "\n",
        "(b) False: No non-square matrices can not have eigenvalues and eigenvectors because eigenvalues and eigenvectors are only for square matrices. \n",
        "\n",
        "(c) False: If A and lamba are the same, it will not change the direction.\n"
      ],
      "metadata": {
        "id": "XBzI93VOrD0b"
      }
    },
    {
      "cell_type": "markdown",
      "source": [
        "###Problem 4\n",
        "\n",
        "Explain how eigenvalues and eigenvectors relate to covariance in a few sentences (in your own words). \n"
      ],
      "metadata": {
        "id": "tBuvrDZQ8M4W"
      }
    },
    {
      "cell_type": "markdown",
      "source": [
        "## Answer\n",
        "\n",
        "Eigenvectors assist in finding the direction of the line of the best fit. The eigenvalues tells us how the dataset is spread out on the line of best fit. This spread of the dataset is the covariance. "
      ],
      "metadata": {
        "id": "6qpBiUCEs2rp"
      }
    },
    {
      "cell_type": "code",
      "source": [],
      "metadata": {
        "id": "r4zVjs7Bva0V"
      },
      "execution_count": null,
      "outputs": []
    }
  ]
}