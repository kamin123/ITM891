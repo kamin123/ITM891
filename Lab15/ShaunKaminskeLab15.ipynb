{
  "cells": [
    {
      "cell_type": "markdown",
      "metadata": {
        "id": "Nqs_W3rYhPu3"
      },
      "source": [
        "##Problem 1 - CIFAR-100 Classification\n",
        "Please change the Edit>Notebook>Hardware Accelerator settings in Colab from None to GPU."
      ]
    },
    {
      "cell_type": "code",
      "execution_count": 2,
      "metadata": {
        "colab": {
          "base_uri": "https://localhost:8080/"
        },
        "id": "4cRjYoVgdL3G",
        "outputId": "c6151c10-d658-466c-a1e8-1a991b16914c"
      },
      "outputs": [
        {
          "output_type": "stream",
          "name": "stdout",
          "text": [
            "Wed Apr 19 14:20:44 2023       \n",
            "+-----------------------------------------------------------------------------+\n",
            "| NVIDIA-SMI 525.85.12    Driver Version: 525.85.12    CUDA Version: 12.0     |\n",
            "|-------------------------------+----------------------+----------------------+\n",
            "| GPU  Name        Persistence-M| Bus-Id        Disp.A | Volatile Uncorr. ECC |\n",
            "| Fan  Temp  Perf  Pwr:Usage/Cap|         Memory-Usage | GPU-Util  Compute M. |\n",
            "|                               |                      |               MIG M. |\n",
            "|===============================+======================+======================|\n",
            "|   0  Tesla T4            Off  | 00000000:00:04.0 Off |                    0 |\n",
            "| N/A   50C    P8    10W /  70W |      0MiB / 15360MiB |      0%      Default |\n",
            "|                               |                      |                  N/A |\n",
            "+-------------------------------+----------------------+----------------------+\n",
            "                                                                               \n",
            "+-----------------------------------------------------------------------------+\n",
            "| Processes:                                                                  |\n",
            "|  GPU   GI   CI        PID   Type   Process name                  GPU Memory |\n",
            "|        ID   ID                                                   Usage      |\n",
            "|=============================================================================|\n",
            "|  No running processes found                                                 |\n",
            "+-----------------------------------------------------------------------------+\n"
          ]
        }
      ],
      "source": [
        "# Check the GPU information\n",
        "!nvidia-smi"
      ]
    },
    {
      "cell_type": "code",
      "execution_count": 3,
      "metadata": {
        "colab": {
          "base_uri": "https://localhost:8080/"
        },
        "id": "QKniVJKFdUPi",
        "outputId": "693f5169-7438-4742-dda1-76c3bee5c201"
      },
      "outputs": [
        {
          "output_type": "stream",
          "name": "stdout",
          "text": [
            "Downloading https://www.cs.toronto.edu/~kriz/cifar-100-python.tar.gz to ./data/cifar-100-python.tar.gz\n"
          ]
        },
        {
          "output_type": "stream",
          "name": "stderr",
          "text": [
            "100%|██████████| 169001437/169001437 [00:04<00:00, 40340974.37it/s]\n"
          ]
        },
        {
          "output_type": "stream",
          "name": "stdout",
          "text": [
            "Extracting ./data/cifar-100-python.tar.gz to ./data\n",
            "Files already downloaded and verified\n"
          ]
        }
      ],
      "source": [
        "# CIFAR-100 classification\n",
        "import torch\n",
        "import torchvision\n",
        "from torchvision import transforms\n",
        "from torch.utils.data import DataLoader\n",
        "\n",
        "# Define the batch size\n",
        "batch_size = 256\n",
        "\n",
        "device = torch.device('cuda' if torch.cuda.is_available() else 'cpu')\n",
        "\n",
        "# Define the transform to normalize the data\n",
        "transform = torchvision.transforms.Compose([\n",
        "    transforms.Resize((224, 224)), # Resize to 224x224 (height x width)\n",
        "    transforms.ToTensor(),\n",
        "    transforms.Normalize(mean=[0.485, 0.456, 0.406],\n",
        "                          std=[0.229, 0.224, 0.225])\n",
        "])\n",
        "\n",
        "# Load the training set\n",
        "train_set = torchvision.datasets.CIFAR100(root='./data', train=True, download=True, transform=transform)\n",
        "\n",
        "# Load the test set\n",
        "test_set = torchvision.datasets.CIFAR100(root='./data', train=False, download=True, transform=transform)\n",
        "\n",
        "# Create data loaders to load the data in batches\n",
        "train_loader = DataLoader(\n",
        "    train_set, \n",
        "    batch_size=batch_size, \n",
        "    shuffle=True\n",
        ")\n",
        "\n",
        "test_loader = DataLoader(\n",
        "    test_set, \n",
        "    batch_size=batch_size, \n",
        "    shuffle=False\n",
        ")"
      ]
    },
    {
      "cell_type": "code",
      "execution_count": 4,
      "metadata": {
        "id": "XuNVoTKJdioK",
        "colab": {
          "base_uri": "https://localhost:8080/"
        },
        "outputId": "a23ae3bc-e6f1-4fd0-ad66-9863418a803e"
      },
      "outputs": [
        {
          "output_type": "stream",
          "name": "stderr",
          "text": [
            "Downloading: \"https://download.pytorch.org/models/resnet18-f37072fd.pth\" to /root/.cache/torch/hub/checkpoints/resnet18-f37072fd.pth\n",
            "100%|██████████| 44.7M/44.7M [00:00<00:00, 134MB/s]\n"
          ]
        }
      ],
      "source": [
        "# Define the model\n",
        "from torchvision.models import resnet18, ResNet18_Weights\n",
        "\n",
        "# Use pretrained weights\n",
        "net = resnet18(weights=ResNet18_Weights.IMAGENET1K_V1).cuda()"
      ]
    },
    {
      "cell_type": "code",
      "execution_count": 5,
      "metadata": {
        "id": "hG6WwbKddtgt"
      },
      "outputs": [],
      "source": [
        "# Define the loss and the optimizer\n",
        "import torch.optim as optim\n",
        "from torch.optim.lr_scheduler import CosineAnnealingLR\n",
        "import torch.nn as nn\n",
        "\n",
        "epochs = 5\n",
        "criterion = nn.CrossEntropyLoss()\n",
        "optimizer = optim.SGD(net.parameters(), lr=0.01, momentum=0.9)\n",
        "scheduler = CosineAnnealingLR(optimizer, epochs, eta_min=0, last_epoch=- 1, verbose=False)"
      ]
    },
    {
      "cell_type": "code",
      "execution_count": 6,
      "metadata": {
        "colab": {
          "base_uri": "https://localhost:8080/"
        },
        "id": "mB_sv3UDdweZ",
        "outputId": "b2076419-207d-486b-c84e-f9e69df119cb"
      },
      "outputs": [
        {
          "output_type": "stream",
          "name": "stdout",
          "text": [
            "[1,     1] loss: 0.005\n",
            "[1,    11] loss: 0.041\n",
            "[1,    21] loss: 0.026\n",
            "[1,    31] loss: 0.020\n",
            "[1,    41] loss: 0.017\n",
            "[1,    51] loss: 0.015\n",
            "[1,    61] loss: 0.014\n",
            "[1,    71] loss: 0.012\n",
            "[1,    81] loss: 0.011\n",
            "[1,    91] loss: 0.010\n",
            "[1,   101] loss: 0.009\n",
            "[1,   111] loss: 0.009\n",
            "[1,   121] loss: 0.008\n",
            "[1,   131] loss: 0.008\n",
            "[1,   141] loss: 0.008\n",
            "[1,   151] loss: 0.008\n",
            "[1,   161] loss: 0.007\n",
            "[1,   171] loss: 0.007\n",
            "[1,   181] loss: 0.007\n",
            "[1,   191] loss: 0.006\n",
            "Accuracy of the network on the 10000 test images: 62 %\n",
            "[2,     1] loss: 0.001\n",
            "[2,    11] loss: 0.005\n",
            "[2,    21] loss: 0.005\n",
            "[2,    31] loss: 0.005\n",
            "[2,    41] loss: 0.005\n",
            "[2,    51] loss: 0.005\n",
            "[2,    61] loss: 0.005\n",
            "[2,    71] loss: 0.005\n",
            "[2,    81] loss: 0.005\n",
            "[2,    91] loss: 0.004\n",
            "[2,   101] loss: 0.005\n",
            "[2,   111] loss: 0.004\n",
            "[2,   121] loss: 0.005\n",
            "[2,   131] loss: 0.004\n",
            "[2,   141] loss: 0.005\n",
            "[2,   151] loss: 0.004\n",
            "[2,   161] loss: 0.004\n",
            "[2,   171] loss: 0.004\n",
            "[2,   181] loss: 0.004\n",
            "[2,   191] loss: 0.004\n",
            "Accuracy of the network on the 10000 test images: 70 %\n",
            "[3,     1] loss: 0.000\n",
            "[3,    11] loss: 0.003\n",
            "[3,    21] loss: 0.003\n",
            "[3,    31] loss: 0.002\n",
            "[3,    41] loss: 0.003\n",
            "[3,    51] loss: 0.002\n",
            "[3,    61] loss: 0.003\n",
            "[3,    71] loss: 0.002\n",
            "[3,    81] loss: 0.002\n",
            "[3,    91] loss: 0.002\n",
            "[3,   101] loss: 0.002\n",
            "[3,   111] loss: 0.002\n",
            "[3,   121] loss: 0.003\n",
            "[3,   131] loss: 0.002\n",
            "[3,   141] loss: 0.002\n",
            "[3,   151] loss: 0.002\n",
            "[3,   161] loss: 0.003\n",
            "[3,   171] loss: 0.002\n",
            "[3,   181] loss: 0.002\n",
            "[3,   191] loss: 0.003\n",
            "Accuracy of the network on the 10000 test images: 73 %\n",
            "[4,     1] loss: 0.000\n",
            "[4,    11] loss: 0.001\n",
            "[4,    21] loss: 0.001\n",
            "[4,    31] loss: 0.001\n",
            "[4,    41] loss: 0.001\n",
            "[4,    51] loss: 0.001\n",
            "[4,    61] loss: 0.001\n",
            "[4,    71] loss: 0.001\n",
            "[4,    81] loss: 0.001\n",
            "[4,    91] loss: 0.001\n",
            "[4,   101] loss: 0.001\n",
            "[4,   111] loss: 0.001\n",
            "[4,   121] loss: 0.001\n",
            "[4,   131] loss: 0.001\n",
            "[4,   141] loss: 0.001\n",
            "[4,   151] loss: 0.001\n",
            "[4,   161] loss: 0.001\n",
            "[4,   171] loss: 0.001\n",
            "[4,   181] loss: 0.001\n",
            "[4,   191] loss: 0.001\n",
            "Accuracy of the network on the 10000 test images: 74 %\n",
            "[5,     1] loss: 0.000\n",
            "[5,    11] loss: 0.001\n",
            "[5,    21] loss: 0.001\n",
            "[5,    31] loss: 0.001\n",
            "[5,    41] loss: 0.001\n",
            "[5,    51] loss: 0.001\n",
            "[5,    61] loss: 0.001\n",
            "[5,    71] loss: 0.001\n",
            "[5,    81] loss: 0.001\n",
            "[5,    91] loss: 0.001\n",
            "[5,   101] loss: 0.001\n",
            "[5,   111] loss: 0.001\n",
            "[5,   121] loss: 0.001\n",
            "[5,   131] loss: 0.001\n",
            "[5,   141] loss: 0.001\n",
            "[5,   151] loss: 0.001\n",
            "[5,   161] loss: 0.001\n",
            "[5,   171] loss: 0.001\n",
            "[5,   181] loss: 0.001\n",
            "[5,   191] loss: 0.001\n",
            "Accuracy of the network on the 10000 test images: 75 %\n",
            "Finished Training\n"
          ]
        }
      ],
      "source": [
        "# Train the network\n",
        "acc_list = []\n",
        "for epoch in range(epochs):  # Loop over the dataset multiple times\n",
        "    net.train()\n",
        "    running_loss = 0.0\n",
        "    for i, data in enumerate(train_loader, 0):\n",
        "        # Get the inputs; data is a list of [inputs, labels]\n",
        "        inputs, labels = data\n",
        "        inputs = inputs.cuda()\n",
        "        labels = labels.cuda()\n",
        "\n",
        "        # Zero the parameter gradients\n",
        "        optimizer.zero_grad()\n",
        "        # Forward + backward + optimize\n",
        "        outputs = net(inputs)\n",
        "        loss = criterion(outputs, labels)\n",
        "        loss.backward()\n",
        "        optimizer.step()\n",
        "\n",
        "        # Print statistics\n",
        "        running_loss += loss.item()\n",
        "        if i % 10 == 0:    # print every 2000 mini-batches\n",
        "            print(f'[{epoch + 1}, {i + 1:5d}] loss: {running_loss / 2000:.3f}')\n",
        "            running_loss = 0.0\n",
        "\n",
        "    scheduler.step()\n",
        "            \n",
        "    # Test the network\n",
        "    net.eval()\n",
        "    correct = 0\n",
        "    total = 0\n",
        "    # Since we're not training, we don't need to calculate the gradients for our outputs\n",
        "    with torch.no_grad():\n",
        "        for data in test_loader:\n",
        "            # Calculate outputs by running images through the network\n",
        "            images, labels = data\n",
        "            images = images.cuda()\n",
        "            labels = labels.cuda()\n",
        "            outputs = net(images)\n",
        "            # The class with the highest energy is what we choose as prediction\n",
        "            _, predicted = torch.max(outputs.data, 1)\n",
        "            total += labels.size(0)\n",
        "            correct += (predicted == labels).sum().item()\n",
        "            \n",
        "        acc_list.append(100 * correct // total)\n",
        "\n",
        "    print(f'Accuracy of the network on the 10000 test images: {100 * correct // total} %')\n",
        "print('Finished Training')"
      ]
    },
    {
      "cell_type": "markdown",
      "metadata": {
        "id": "n-4llKF3fNLt"
      },
      "source": [
        "##Problem 2 - Flowers102 Classification\n",
        "Note: for the last step, plot the testing accuracy curve across the epochs. To do this, remember to store all the accuracy numbers in a Python list during the training."
      ]
    },
    {
      "cell_type": "code",
      "execution_count": 7,
      "metadata": {
        "id": "nZm-Y4G7fNba",
        "colab": {
          "base_uri": "https://localhost:8080/"
        },
        "outputId": "e616a108-1805-4fac-e613-f2a146f1c123"
      },
      "outputs": [
        {
          "output_type": "stream",
          "name": "stdout",
          "text": [
            "Downloading https://thor.robots.ox.ac.uk/datasets/flowers-102/102flowers.tgz to data/flowers-102/102flowers.tgz\n"
          ]
        },
        {
          "output_type": "stream",
          "name": "stderr",
          "text": [
            "100%|██████████| 344862509/344862509 [00:12<00:00, 28492539.78it/s]\n"
          ]
        },
        {
          "output_type": "stream",
          "name": "stdout",
          "text": [
            "Extracting data/flowers-102/102flowers.tgz to data/flowers-102\n",
            "Downloading https://thor.robots.ox.ac.uk/datasets/flowers-102/imagelabels.mat to data/flowers-102/imagelabels.mat\n"
          ]
        },
        {
          "output_type": "stream",
          "name": "stderr",
          "text": [
            "100%|██████████| 502/502 [00:00<00:00, 710611.07it/s]\n"
          ]
        },
        {
          "output_type": "stream",
          "name": "stdout",
          "text": [
            "Downloading https://thor.robots.ox.ac.uk/datasets/flowers-102/setid.mat to data/flowers-102/setid.mat\n"
          ]
        },
        {
          "output_type": "stream",
          "name": "stderr",
          "text": [
            "100%|██████████| 14989/14989 [00:00<00:00, 14327352.47it/s]\n"
          ]
        }
      ],
      "source": [
        "# Flowers102 classification\n",
        "import torch\n",
        "import torchvision\n",
        "from torchvision import transforms\n",
        "from torch.utils.data import DataLoader\n",
        "\n",
        "# Define the batch size\n",
        "batch_size = 256\n",
        "\n",
        "# Define the transform to normalize the data\n",
        "# Resize to 224x224 (height x width)\n",
        "transform = torchvision.transforms.Compose([\n",
        "    transforms.Resize((224, 224)), # Resize to 224x224 (height x width)\n",
        "    transforms.ToTensor(),\n",
        "    transforms.Normalize(mean=[0.485, 0.456, 0.406],\n",
        "                          std=[0.229, 0.224, 0.225])\n",
        "])\n",
        "\n",
        "# Load the training set\n",
        "train_set = torchvision.datasets.Flowers102(root='./data', split = 'train', download=True, transform=transform)\n",
        "\n",
        "# Load the test set\n",
        "test_set = torchvision.datasets.Flowers102(root='./data', split = 'test', download=True, transform=transform)\n",
        "\n",
        "# Create data loaders to load the data in batches\n",
        "train_loader = DataLoader(\n",
        "    train_set, \n",
        "    batch_size=batch_size, \n",
        "    shuffle=True\n",
        ")\n",
        "\n",
        "test_loader = DataLoader(\n",
        "    test_set, \n",
        "    batch_size=batch_size, \n",
        "    shuffle=False\n",
        ")"
      ]
    },
    {
      "cell_type": "code",
      "execution_count": 8,
      "metadata": {
        "id": "sZbV8zEYfmJY"
      },
      "outputs": [],
      "source": [
        "# Define the model\n",
        "from torchvision.models import resnet18, ResNet18_Weights\n",
        "\n",
        "# Using pretrained weights:\n",
        "net = resnet18(weights=ResNet18_Weights.IMAGENET1K_V1).cuda()"
      ]
    },
    {
      "cell_type": "code",
      "execution_count": 9,
      "metadata": {
        "id": "ERM3FAUDfw7v"
      },
      "outputs": [],
      "source": [
        "# Define the loss and the optimizer\n",
        "import torch.optim as optim\n",
        "from torch.optim.lr_scheduler import CosineAnnealingLR\n",
        "import torch.nn as nn\n",
        "\n",
        "epochs = 20\n",
        "criterion = nn.CrossEntropyLoss()\n",
        "optimizer = optim.SGD(net.parameters(), lr=0.01, momentum=0.9)\n",
        "scheduler = CosineAnnealingLR(optimizer, epochs, eta_min=0, last_epoch=- 1, verbose=False)"
      ]
    },
    {
      "cell_type": "code",
      "execution_count": 10,
      "metadata": {
        "colab": {
          "base_uri": "https://localhost:8080/"
        },
        "id": "K2srG8BOfzr6",
        "outputId": "144a5ffe-9701-4715-a916-c86c6803d124"
      },
      "outputs": [
        {
          "output_type": "stream",
          "name": "stdout",
          "text": [
            "[1,     1] loss: 0.005\n",
            "Accuracy of the network on the 10000 test images: 1 %\n",
            "[2,     1] loss: 0.004\n",
            "Accuracy of the network on the 10000 test images: 12 %\n",
            "[3,     1] loss: 0.002\n",
            "Accuracy of the network on the 10000 test images: 25 %\n",
            "[4,     1] loss: 0.001\n",
            "Accuracy of the network on the 10000 test images: 36 %\n",
            "[5,     1] loss: 0.000\n",
            "Accuracy of the network on the 10000 test images: 46 %\n",
            "[6,     1] loss: 0.000\n",
            "Accuracy of the network on the 10000 test images: 52 %\n",
            "[7,     1] loss: 0.000\n",
            "Accuracy of the network on the 10000 test images: 57 %\n",
            "[8,     1] loss: 0.000\n",
            "Accuracy of the network on the 10000 test images: 60 %\n",
            "[9,     1] loss: 0.000\n",
            "Accuracy of the network on the 10000 test images: 61 %\n",
            "[10,     1] loss: 0.000\n",
            "Accuracy of the network on the 10000 test images: 63 %\n",
            "[11,     1] loss: 0.000\n",
            "Accuracy of the network on the 10000 test images: 63 %\n",
            "[12,     1] loss: 0.000\n",
            "Accuracy of the network on the 10000 test images: 63 %\n",
            "[13,     1] loss: 0.000\n",
            "Accuracy of the network on the 10000 test images: 63 %\n",
            "[14,     1] loss: 0.000\n",
            "Accuracy of the network on the 10000 test images: 64 %\n",
            "[15,     1] loss: 0.000\n",
            "Accuracy of the network on the 10000 test images: 64 %\n",
            "[16,     1] loss: 0.000\n",
            "Accuracy of the network on the 10000 test images: 64 %\n",
            "[17,     1] loss: 0.000\n",
            "Accuracy of the network on the 10000 test images: 64 %\n",
            "[18,     1] loss: 0.000\n",
            "Accuracy of the network on the 10000 test images: 64 %\n",
            "[19,     1] loss: 0.000\n",
            "Accuracy of the network on the 10000 test images: 64 %\n",
            "[20,     1] loss: 0.000\n",
            "Accuracy of the network on the 10000 test images: 64 %\n",
            "Finished Training\n"
          ]
        }
      ],
      "source": [
        "# Train the network\n",
        "acc_list = []\n",
        "\n",
        "for epoch in range(epochs):  # Loop over the dataset multiple times\n",
        "    net.train()\n",
        "    running_loss = 0.0\n",
        "    for i, data in enumerate(train_loader, 0):\n",
        "        inputs, labels = data\n",
        "        inputs = inputs.cuda()\n",
        "        labels = labels.cuda()\n",
        "\n",
        "        # Zero the parameter gradients\n",
        "        optimizer.zero_grad()\n",
        "        # Forward + backward + optimize\n",
        "        outputs = net(inputs)\n",
        "        loss = criterion(outputs, labels)\n",
        "        loss.backward()\n",
        "        optimizer.step()\n",
        "\n",
        "        # Print statistics\n",
        "        running_loss += loss.item()\n",
        "        if i % 10 == 0:    # print every 2000 mini-batches\n",
        "            print(f'[{epoch + 1}, {i + 1:5d}] loss: {running_loss / 2000:.3f}')\n",
        "            running_loss = 0.0\n",
        "\n",
        "    scheduler.step()\n",
        "            \n",
        "    # Test the network\n",
        "    net.eval()\n",
        "    correct = 0\n",
        "    total = 0\n",
        "    # Since we're not training, we don't need to calculate the gradients for our outputs\n",
        "    with torch.no_grad():\n",
        "        for data in test_loader:\n",
        "             # Calculate outputs by running images through the network\n",
        "            images, labels = data\n",
        "            images = images.cuda()\n",
        "            labels = labels.cuda()\n",
        "            outputs = net(images)\n",
        "            # The class with the highest energy is what we choose as prediction\n",
        "            _, predicted = torch.max(outputs.data, 1)\n",
        "            total += labels.size(0)\n",
        "            correct += (predicted == labels).sum().item()\n",
        "        acc_list.append(100 * correct // total)\n",
        "\n",
        "    print(f'Accuracy of the network on the 10000 test images: {100 * correct // total} %')\n",
        "print('Finished Training')"
      ]
    },
    {
      "cell_type": "code",
      "execution_count": 11,
      "metadata": {
        "id": "c94NDzzrf1sK",
        "colab": {
          "base_uri": "https://localhost:8080/",
          "height": 489
        },
        "outputId": "477d4d54-7415-4d0d-a094-33531d83aba5"
      },
      "outputs": [
        {
          "output_type": "execute_result",
          "data": {
            "text/plain": [
              "Text(0, 0.5, 'Accuracy')"
            ]
          },
          "metadata": {},
          "execution_count": 11
        },
        {
          "output_type": "display_data",
          "data": {
            "text/plain": [
              "<Figure size 640x480 with 1 Axes>"
            ],
            "image/png": "[encoded data removed]"
          },
          "metadata": {}
        }
      ],
      "source": [
        "# Plot the testing accuracy curve across the epochs\n",
        "# Remember to store all the accuracy numbers in a Python list during the training.\n",
        "import matplotlib.pyplot as plt\n",
        "\n",
        "plt.figure()\n",
        "plt.plot(acc_list)\n",
        "plt.title('Accuracy')\n",
        "plt.xlabel('Epoch')\n",
        "plt.ylabel('Accuracy')\n"
      ]
    }
  ],
  "metadata": {
    "accelerator": "GPU",
    "colab": {
      "provenance": []
    },
    "gpuClass": "standard",
    "kernelspec": {
      "display_name": "Python 3",
      "name": "python3"
    },
    "language_info": {
      "name": "python"
    }
  },
  "nbformat": 4,
  "nbformat_minor": 0
}