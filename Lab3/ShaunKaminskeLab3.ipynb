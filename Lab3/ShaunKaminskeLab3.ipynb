{
  "nbformat": 4,
  "nbformat_minor": 0,
  "metadata": {
    "colab": {
      "provenance": []
    },
    "kernelspec": {
      "name": "python3",
      "display_name": "Python 3"
    },
    "language_info": {
      "name": "python"
    }
  },
  "cells": [
    {
      "cell_type": "markdown",
      "source": [
        "Question 1\n",
        "a. For every element e in a and b, calculate and print whether a[e] > b[e]\n"
      ],
      "metadata": {
        "id": "drMpMxVt1vPb"
      }
    },
    {
      "cell_type": "code",
      "source": [
        "import numpy as np\n",
        "a = np.array([30, 45, 22, 75, 84])\n",
        "b = np.array([67, 40, 90, 13, 56])\n",
        "print(a>b)\n"
      ],
      "metadata": {
        "colab": {
          "base_uri": "https://localhost:8080/"
        },
        "id": "5C4V98DP1ysg",
        "outputId": "98c128fd-3c04-4939-d6ca-cb0b78a55d32"
      },
      "execution_count": 2,
      "outputs": [
        {
          "output_type": "stream",
          "name": "stdout",
          "text": [
            "[False  True False  True  True]\n"
          ]
        }
      ]
    },
    {
      "cell_type": "markdown",
      "source": [
        "Question 1b\n",
        "b. Use a binary mask to change all values where a[e] > 30 to be set to 50. "
      ],
      "metadata": {
        "id": "LWXJTTR43_jJ"
      }
    },
    {
      "cell_type": "code",
      "source": [
        "import numpy as np\n",
        "a = np.array([30, 45, 22, 75, 84])\n",
        "b = np.array([67, 40, 90, 13, 56])\n",
        "print(a)\n",
        "print(a > 30)\n",
        "a[a > 30] = 50\n",
        "print(a)"
      ],
      "metadata": {
        "colab": {
          "base_uri": "https://localhost:8080/"
        },
        "id": "rc0QDM874Bw5",
        "outputId": "2e699436-4dd9-4eff-8e89-dc7c3cbeca1c"
      },
      "execution_count": 12,
      "outputs": [
        {
          "output_type": "stream",
          "name": "stdout",
          "text": [
            "[30 45 22 75 84]\n",
            "[False  True False  True  True]\n"
          ]
        },
        {
          "output_type": "execute_result",
          "data": {
            "text/plain": [
              "array([30, 50, 22, 50, 50])"
            ]
          },
          "metadata": {},
          "execution_count": 12
        }
      ]
    },
    {
      "cell_type": "markdown",
      "source": [
        "Question 2\n",
        "\n",
        "Given array x = [[5, 2, 6, 1], [3, 4, 7, 2], [8, 1, 2, 9], [3, 4, 2, 6]], calculate the sum of the\n",
        "highlighted and bolded elements using indexing. "
      ],
      "metadata": {
        "id": "lEy7IsTc54Hn"
      }
    },
    {
      "cell_type": "code",
      "source": [
        "x = np.array([[5, 2, 6, 1], [3, 4, 7, 2], [8, 1, 2, 9], [3, 4, 2, 6]])\n",
        "#sum of [0, 2], [3,1]\n",
        "subset_1 = x[0,2] #6\n",
        "subset_2 = x[3,1] #4\n",
        "\n",
        "print(np.sum([subset_1, subset_2]))\n"
      ],
      "metadata": {
        "colab": {
          "base_uri": "https://localhost:8080/"
        },
        "id": "06tyGVGU5_eI",
        "outputId": "10fc21ea-5dee-4eaf-e277-9cd9e013542c"
      },
      "execution_count": 23,
      "outputs": [
        {
          "output_type": "stream",
          "name": "stdout",
          "text": [
            "10\n"
          ]
        }
      ]
    },
    {
      "cell_type": "markdown",
      "source": [
        "Question 3\n",
        "\n",
        "Given array c = [[1, 0], [8, 1]] and array d = [[4, 1], [2, 2]], calculate the dot product of c\n",
        "and d. "
      ],
      "metadata": {
        "id": "fj0gGM2m7c0T"
      }
    },
    {
      "cell_type": "code",
      "source": [
        "c = np.array([[1, 0], [8, 1]])\n",
        "d = np.array([[4, 1], [2, 2]])\n",
        "print(np.dot(c,d))\n"
      ],
      "metadata": {
        "colab": {
          "base_uri": "https://localhost:8080/"
        },
        "id": "aJNcIS3c7jrI",
        "outputId": "0c363f23-89d2-4163-b44f-0480f58b24ce"
      },
      "execution_count": 27,
      "outputs": [
        {
          "output_type": "stream",
          "name": "stdout",
          "text": [
            "[[ 4  1]\n",
            " [34 10]]\n"
          ]
        }
      ]
    },
    {
      "cell_type": "markdown",
      "source": [
        "Question 4\n",
        "\n",
        "Given array a = [[1, 4], [2, 9], [5, 6]], find the shape and transpose of a. "
      ],
      "metadata": {
        "id": "gFxaw0-t8lKx"
      }
    },
    {
      "cell_type": "code",
      "source": [
        " a = np.array([[1, 4], [2, 9], [5, 6]])\n",
        " print(a.shape)\n",
        " print(a.T)"
      ],
      "metadata": {
        "colab": {
          "base_uri": "https://localhost:8080/"
        },
        "id": "ePI3dXDq8opP",
        "outputId": "4b03aa0e-9937-464b-852c-a95f63c3d773"
      },
      "execution_count": 29,
      "outputs": [
        {
          "output_type": "stream",
          "name": "stdout",
          "text": [
            "(3, 2)\n",
            "[[1 2 5]\n",
            " [4 9 6]]\n"
          ]
        }
      ]
    },
    {
      "cell_type": "markdown",
      "source": [
        "Question 5\n",
        "\n",
        "Given array x = [[1, 2], [3, 4]] and array y = [[5, 6], [7, 8], [9, 0]], stack the arrays in\n",
        "sequence vertically."
      ],
      "metadata": {
        "id": "QbGJKAcv9IQ9"
      }
    },
    {
      "cell_type": "code",
      "source": [
        "x = np.array([[1, 2], [3, 4]])\n",
        "y = np.array([[5, 6], [7, 8], [9, 0]])\n",
        "print(np.vstack([x,y]))\n"
      ],
      "metadata": {
        "colab": {
          "base_uri": "https://localhost:8080/"
        },
        "id": "iOMT6zmx9MNM",
        "outputId": "ef7d1898-85ba-432e-af12-23ed18f27c2c"
      },
      "execution_count": 31,
      "outputs": [
        {
          "output_type": "stream",
          "name": "stdout",
          "text": [
            "[[1 2]\n",
            " [3 4]\n",
            " [5 6]\n",
            " [7 8]\n",
            " [9 0]]\n"
          ]
        }
      ]
    },
    {
      "cell_type": "markdown",
      "source": [
        "Question 6\n",
        "\n",
        "Calculate the area of x2 + y\n",
        "2 ≤ 1 by uniformly sampling x in [-1,1] and y in [-1,1]."
      ],
      "metadata": {
        "id": "XXydgde39NqM"
      }
    },
    {
      "cell_type": "code",
      "source": [
        "trial = 100000\n",
        "x = np.random.uniform(-1, 1, size = trial)\n",
        "y = np.random.uniform(-1, 1, size = trial)\n",
        "z = x ** 2 + y ** 2\n",
        "prob = np.sum(z<=1) / trial\n",
        "area = prob *4\n",
        "print(area)"
      ],
      "metadata": {
        "colab": {
          "base_uri": "https://localhost:8080/"
        },
        "id": "FfaPbZWk9Q8C",
        "outputId": "73a7b598-e202-40d7-ccc0-3746eed59fdf"
      },
      "execution_count": 35,
      "outputs": [
        {
          "output_type": "stream",
          "name": "stdout",
          "text": [
            "3.13932\n"
          ]
        }
      ]
    },
    {
      "cell_type": "markdown",
      "source": [
        "Question 7\n",
        "\n",
        "Calculate the probability that x\n",
        "2 + y2 ≤ 1 if x and y are two standard Gaussian\n",
        "distribution variables.\n"
      ],
      "metadata": {
        "id": "5yCrNyhq9R3K"
      }
    },
    {
      "cell_type": "code",
      "source": [
        "trial = 100000\n",
        "x = np.random.normal(trial)\n",
        "y = np.random.normal(trial)\n",
        "z = x ** 2 + y ** 2\n",
        "prob = np.sum(z<=1) / trial\n",
        "print(prob)"
      ],
      "metadata": {
        "colab": {
          "base_uri": "https://localhost:8080/"
        },
        "id": "eRfD3dK19ziL",
        "outputId": "7fc56df7-29ce-4a09-e218-e965d1abaf1d"
      },
      "execution_count": 36,
      "outputs": [
        {
          "output_type": "stream",
          "name": "stdout",
          "text": [
            "0.39561\n"
          ]
        }
      ]
    },
    {
      "cell_type": "markdown",
      "source": [
        "Question 8\n",
        "\n",
        "Calculate the probability that the sum of three dices is larger than 10 if you randomly roll\n",
        "the three dices."
      ],
      "metadata": {
        "id": "IJuTYx0O9z3E"
      }
    },
    {
      "cell_type": "code",
      "source": [
        "\n",
        "trial = 500000\n",
        "sample_data = np.random.randint(1,7, size = trial * 3)\n",
        "rolls = sample_data.reshape(trial, 3)\n",
        "sum_of_rolls = rolls.sum(-1)\n",
        "how_many_larger = np.sum(sum_of_rolls > 10)\n",
        "prob = how_many_larger / trial\n",
        "print(prob)"
      ],
      "metadata": {
        "colab": {
          "base_uri": "https://localhost:8080/"
        },
        "id": "3wcJUm2H92-w",
        "outputId": "b9f59921-9ff8-44f8-c6e9-d7104e9fcc5b"
      },
      "execution_count": 43,
      "outputs": [
        {
          "output_type": "stream",
          "name": "stdout",
          "text": [
            "0.499184\n"
          ]
        }
      ]
    }
  ]
}